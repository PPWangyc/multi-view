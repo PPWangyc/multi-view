{
 "cells": [
  {
   "cell_type": "markdown",
   "id": "9ddc6238",
   "metadata": {},
   "source": [
    "Import modules"
   ]
  },
  {
   "cell_type": "code",
   "execution_count": 6,
   "metadata": {},
   "outputs": [],
   "source": [
    "import os\n",
    "import sys\n",
    "import numpy as np\n",
    "import pandas as pd\n",
    "from pathlib import Path\n",
    "\n",
    "from one.api import ONE\n",
    "\n",
    "from utils.ibl_utils import (\n",
    "    prepare_data,\n",
    "    bin_spiking_data,\n",
    "    list_brain_regions,\n",
    "    select_brain_regions,\n",
    "    load_video_index,\n",
    "    load_keypoints,\n",
    "    load_video,\n",
    "    resize_video,\n",
    "    load_keypoints\n",
    ")"
   ]
  },
  {
   "cell_type": "markdown",
   "id": "135a426d",
   "metadata": {},
   "source": [
    "Set Paths information"
   ]
  },
  {
   "cell_type": "code",
   "execution_count": 2,
   "id": "77087529",
   "metadata": {},
   "outputs": [
    {
     "name": "stdout",
     "output_type": "stream",
     "text": [
      "Number of encoding sessions: 10\n",
      "['d23a44ef-1402-4ed7-97f5-47e9a7a504d9', 'db4df448-e449-4a6f-a0e7-288711e7a75a', '3638d102-e8b6-4230-8742-e548cd87a949', '4b7fbad4-f6de-43b4-9b15-c7c7ef44db4b', '03d9a098-07bf-4765-88b7-85f8d8f620cc', '0841d188-8ef2-4f20-9828-76a94d5343a4', '9b528ad0-4599-4a55-9148-96cc1d93fb24', 'f140a2ec-fd49-4814-994a-fe3476f14e66', '687017d4-c9fc-458f-a7d5-0979fe1a7470', 'd04feec7-d0b7-4f35-af89-0232dd975bf0']\n"
     ]
    }
   ],
   "source": [
    "# ---------------\n",
    "# PREPROCESS DATA\n",
    "# ---------------\n",
    "one = ONE(\n",
    "    base_url=\"https://openalyx.internationalbrainlab.org\",\n",
    "    password=\"international\", \n",
    "    silent=True,\n",
    "    cache_dir='../../data/ibl'\n",
    ")\n",
    "\n",
    "params = {\n",
    "    \"interval_len\": 2, \n",
    "    \"binsize\": 0.02, \n",
    "    \"single_region\": False,\n",
    "    \"align_time\": 'stimOn_times', \n",
    "    \"time_window\": (-.5, 1.5), \n",
    "    \"fr_thresh\": 0.5\n",
    "}\n",
    "\n",
    "beh_names = [\n",
    "    \"choice\", \n",
    "    \"reward\", \n",
    "    \"block\",\n",
    "    \"wheel-speed\", \n",
    "    \"whisker-motion-energy\", \n",
    "]\n",
    "\n",
    "N_WORKERS = 4\n",
    "\n",
    "DYNAMIC_VARS = list(filter(lambda x: x not in [\"choice\", \"reward\", \"block\"], beh_names))\n",
    "\n",
    "ENCODING_TEST_EIDS_PATH = \"../../data/encoding_test_eids.txt\"\n",
    "\n",
    "with open(ENCODING_TEST_EIDS_PATH, \"r\") as f:\n",
    "    eids = f.read().splitlines()\n",
    "\n",
    "ANCHOR_CAMERA = \"left\"\n",
    "\n",
    "print(f\"Number of encoding sessions: {len(eids)}\")\n",
    "print(eids)"
   ]
  },
  {
   "cell_type": "markdown",
   "id": "23bdf0c0",
   "metadata": {},
   "source": [
    "Get encoding sessions"
   ]
  },
  {
   "cell_type": "code",
   "execution_count": 4,
   "id": "c6bf4099",
   "metadata": {},
   "outputs": [
    {
     "name": "stdout",
     "output_type": "stream",
     "text": [
      "Processing session 1/10: d23a44ef-1402-4ed7-97f5-47e9a7a504d9\n"
     ]
    },
    {
     "name": "stdout",
     "output_type": "stream",
     "text": [
      "Merge 2 probes for session eid: d23a44ef-1402-4ed7-97f5-47e9a7a504d9\n"
     ]
    },
    {
     "name": "stderr",
     "output_type": "stream",
     "text": [
      "  0%|          | 0/3 [00:00<?, ?it/s]/u/ywang74/.conda/envs/mv/lib/python3.10/site-packages/one/util.py:428: ALFWarning: Multiple revisions: \"\", \"2025-05-30\"\n",
      "  warnings.warn(f'Multiple revisions: {rev_list}', alferr.ALFWarning)\n",
      "/u/ywang74/.conda/envs/mv/lib/python3.10/site-packages/one/util.py:428: ALFWarning: Multiple revisions: \"\", \"2025-05-31\"\n",
      "  warnings.warn(f'Multiple revisions: {rev_list}', alferr.ALFWarning)\n",
      "100%|██████████| 3/3 [00:03<00:00,  1.02s/it]\n"
     ]
    },
    {
     "name": "stdout",
     "output_type": "stream",
     "text": [
      "dict_keys(['spike_times', 'spike_clusters', 'cluster_regions'])\n",
      "dict_keys(['left-whisker-motion-energy', 'right-whisker-motion-energy', 'wheel-speed'])\n",
      "Use spikes from brain regions:  ['CA1' 'DCO' 'DG' 'Eth' 'IP' 'LP' 'PARN' 'PO' 'SIM' 'SPVI' 'VISam' 'VPLpc'\n",
      " 'root' 'y']\n"
     ]
    },
    {
     "name": "stderr",
     "output_type": "stream",
     "text": [
      "100%|██████████| 410/410 [00:39<00:00, 10.44it/s]\n"
     ]
    },
    {
     "name": "stdout",
     "output_type": "stream",
     "text": [
      "(410, 100, 1961)\n",
      "(410, 100, 1237)\n"
     ]
    },
    {
     "ename": "NameError",
     "evalue": "name 'load_keypoints' is not defined",
     "output_type": "error",
     "traceback": [
      "\u001b[0;31m---------------------------------------------------------------------------\u001b[0m",
      "\u001b[0;31mNameError\u001b[0m                                 Traceback (most recent call last)",
      "Cell \u001b[0;32mIn[4], line 25\u001b[0m\n\u001b[1;32m     23\u001b[0m binned_spikes \u001b[38;5;241m=\u001b[39m binned_spikes[\u001b[38;5;241m.\u001b[39m\u001b[38;5;241m.\u001b[39m\u001b[38;5;241m.\u001b[39m, keep_unit_idxs]\n\u001b[1;32m     24\u001b[0m \u001b[38;5;28mprint\u001b[39m(binned_spikes\u001b[38;5;241m.\u001b[39mshape)\n\u001b[0;32m---> 25\u001b[0m kps \u001b[38;5;241m=\u001b[39m \u001b[43mload_keypoints\u001b[49m(one, eid, ANCHOR_CAMERA)\n\u001b[1;32m     26\u001b[0m \u001b[38;5;28mprint\u001b[39m({k: v\u001b[38;5;241m.\u001b[39mshape \u001b[38;5;28;01mfor\u001b[39;00m k, v \u001b[38;5;129;01min\u001b[39;00m kps\u001b[38;5;241m.\u001b[39mitems()})\n\u001b[1;32m     27\u001b[0m \u001b[38;5;66;03m# load video index list\u001b[39;00m\n",
      "\u001b[0;31mNameError\u001b[0m: name 'load_keypoints' is not defined"
     ]
    }
   ],
   "source": [
    "for eid_idx, eid in enumerate(eids):\n",
    "    print(f\"Processing session {eid_idx+1}/{len(eids)}: {eid}\")\n",
    "    neural_dict, behave_dict, meta_data, trials_data, _ = prepare_data(\n",
    "                one, eid, n_workers=N_WORKERS\n",
    "    )\n",
    "    print(neural_dict.keys())\n",
    "    print(behave_dict.keys())\n",
    "\n",
    "    regions, beryl_reg = list_brain_regions(neural_dict, **params)\n",
    "    region_cluster_ids = select_brain_regions(neural_dict, beryl_reg, regions, **params)\n",
    "\n",
    "    binned_spikes, clusters_used_in_bins, intervals = bin_spiking_data(\n",
    "        region_cluster_ids,\n",
    "        neural_dict,\n",
    "        trials_df=trials_data['trials_df'],\n",
    "        n_workers=1,\n",
    "        **params\n",
    "    )\n",
    "    print(binned_spikes.shape)\n",
    "    # Keep responsive neurons\n",
    "    mean_fr = binned_spikes.sum(1).mean(0) / params[\"interval_len\"]\n",
    "    keep_unit_idxs = np.argwhere(mean_fr > 1/params[\"fr_thresh\"]).flatten()\n",
    "    binned_spikes = binned_spikes[..., keep_unit_idxs]\n",
    "    print(binned_spikes.shape)\n",
    "    kps = load_keypoints(one, eid, ANCHOR_CAMERA)\n",
    "    print({k: v.shape for k, v in kps.items()})\n",
    "    # load video index list\n",
    "    video_index_list, url = load_video_index(one, eid, ANCHOR_CAMERA, intervals)\n",
    "    \n",
    "    print(len(video_index_list), video_index_list[:10], url)\n",
    "\n",
    "    for trial_idx in range(len(intervals)):\n",
    "        # trial spike\n",
    "        spike = binned_spikes[trial_idx]\n",
    "        trial_video = load_video(\n",
    "            index=video_index_list[trial_idx],\n",
    "            url=url\n",
    "        )\n",
    "        # print(f'Video shape: {trial_video.shape}')\n",
    "        # print(f\"Spike shape: {spike.shape}\")\n",
    "        # exit()\n",
    "        _, h, w = trial_video.shape\n",
    "        h = w = 224\n",
    "        trial_video = resize_video(\n",
    "            video=trial_video,\n",
    "            height=h,\n",
    "            width=w\n",
    "        )\n",
    "        trial_kps ={}\n",
    "        for key, kp in kps.items():\n",
    "            trial_kps[key] = kp[video_index_list[trial_idx]]\n",
    "            # check of there is any nan value in the keypoint\n",
    "            assert not np.isnan(trial_kps[key]).any(), f'Nan value in keypoint {key}'\n",
    "        data = {\n",
    "            'video': trial_video,\n",
    "            **trial_kps,\n",
    "        }\n",
    "    break"
   ]
  },
  {
   "cell_type": "code",
   "execution_count": 7,
   "id": "a51c851c",
   "metadata": {},
   "outputs": [
    {
     "name": "stderr",
     "output_type": "stream",
     "text": [
      "/u/ywang74/.conda/envs/mv/lib/python3.10/site-packages/one/util.py:428: ALFWarning: Multiple revisions: \"\", \"2025-06-20\"\n",
      "  warnings.warn(f'Multiple revisions: {rev_list}', alferr.ALFWarning)\n",
      "(S3) ../../data/ibl/danlab/Subjects/DY_016/2020-09-12/001/alf/_ibl_leftCamera.dlc.pqt: 100%|██████████| 33.0M/33.0M [00:00<00:00, 51.6MB/s]\n",
      "(S3) ../../data/ibl/danlab/Subjects/DY_016/2020-09-12/001/alf/#2025-06-20#/_ibl_leftCamera.features.pqt: 100%|██████████| 4.08M/4.08M [00:00<00:00, 17.9MB/s]\n"
     ]
    },
    {
     "name": "stdout",
     "output_type": "stream",
     "text": [
      "{'nose_tip_x': (218896,), 'nose_tip_y': (218896,), 'pupil_top_r_x': (218896,), 'pupil_top_r_y': (218896,), 'pupil_right_r_x': (218896,), 'pupil_right_r_y': (218896,), 'pupil_bottom_r_x': (218896,), 'pupil_bottom_r_y': (218896,), 'pupil_left_r_x': (218896,), 'pupil_left_r_y': (218896,), 'paw_l_x': (218896,), 'paw_l_y': (218896,), 'paw_r_x': (218896,), 'paw_r_y': (218896,), 'tube_top_x': (218896,), 'tube_top_y': (218896,), 'tube_bottom_x': (218896,), 'tube_bottom_y': (218896,), 'tongue_end_l_x': (218896,), 'tongue_end_l_y': (218896,), 'tongue_end_r_x': (218896,), 'tongue_end_r_y': (218896,)}\n"
     ]
    }
   ],
   "source": [
    "kps = load_keypoints(one, eid, ANCHOR_CAMERA)\n",
    "print({k: v.shape for k, v in kps.items()})"
   ]
  },
  {
   "cell_type": "code",
   "execution_count": 10,
   "id": "cbfd173d",
   "metadata": {},
   "outputs": [
    {
     "name": "stderr",
     "output_type": "stream",
     "text": [
      "[ WARN:0@2096.241] global cap_ffmpeg_impl.hpp:453 _opencv_ffmpeg_interrupt_callback Stream timeout triggered after 48354.084369 ms\n",
      "[tls @ 0x5425700] Unknown error\n"
     ]
    },
    {
     "ename": "AssertionError",
     "evalue": "Failed to open video file https://ibl.flatironinstitute.org/public/danlab/Subjects/DY_016/2020-09-12/001/raw_video_data/_iblrig_leftCamera.raw.27640f38-ece8-4b52-bf2c-3a87e861d763.mp4",
     "output_type": "error",
     "traceback": [
      "\u001b[0;31m---------------------------------------------------------------------------\u001b[0m",
      "\u001b[0;31mAssertionError\u001b[0m                            Traceback (most recent call last)",
      "Cell \u001b[0;32mIn[10], line 5\u001b[0m\n\u001b[1;32m      3\u001b[0m urls \u001b[38;5;241m=\u001b[39m vidio\u001b[38;5;241m.\u001b[39murl_from_eid(eid, one\u001b[38;5;241m=\u001b[39mone)\n\u001b[1;32m      4\u001b[0m url \u001b[38;5;241m=\u001b[39m urls[ANCHOR_CAMERA]  \u001b[38;5;66;03m# URL for the left camera\u001b[39;00m\n\u001b[0;32m----> 5\u001b[0m meta \u001b[38;5;241m=\u001b[39m \u001b[43mvidio\u001b[49m\u001b[38;5;241;43m.\u001b[39;49m\u001b[43mget_video_meta\u001b[49m\u001b[43m(\u001b[49m\u001b[43murl\u001b[49m\u001b[43m,\u001b[49m\u001b[43m \u001b[49m\u001b[43mone\u001b[49m\u001b[38;5;241;43m=\u001b[39;49m\u001b[43mone\u001b[49m\u001b[43m)\u001b[49m\n\u001b[1;32m      6\u001b[0m \u001b[38;5;28mprint\u001b[39m(\u001b[38;5;124m'\u001b[39m\u001b[38;5;124mget meta info\u001b[39m\u001b[38;5;124m'\u001b[39m)\n",
      "File \u001b[0;32m~/.conda/envs/mv/lib/python3.10/site-packages/ibllib/io/video.py:129\u001b[0m, in \u001b[0;36mget_video_meta\u001b[0;34m(video_path, one)\u001b[0m\n\u001b[1;32m    127\u001b[0m is_url \u001b[38;5;241m=\u001b[39m \u001b[38;5;28misinstance\u001b[39m(video_path, \u001b[38;5;28mstr\u001b[39m) \u001b[38;5;129;01mand\u001b[39;00m video_path\u001b[38;5;241m.\u001b[39mstartswith(\u001b[38;5;124m'\u001b[39m\u001b[38;5;124mhttp\u001b[39m\u001b[38;5;124m'\u001b[39m)\n\u001b[1;32m    128\u001b[0m cap \u001b[38;5;241m=\u001b[39m VideoStreamer(video_path)\u001b[38;5;241m.\u001b[39mcap \u001b[38;5;28;01mif\u001b[39;00m is_url \u001b[38;5;28;01melse\u001b[39;00m cv2\u001b[38;5;241m.\u001b[39mVideoCapture(\u001b[38;5;28mstr\u001b[39m(video_path))\n\u001b[0;32m--> 129\u001b[0m \u001b[38;5;28;01massert\u001b[39;00m cap\u001b[38;5;241m.\u001b[39misOpened(), \u001b[38;5;124mf\u001b[39m\u001b[38;5;124m'\u001b[39m\u001b[38;5;124mFailed to open video file \u001b[39m\u001b[38;5;132;01m{\u001b[39;00mvideo_path\u001b[38;5;132;01m}\u001b[39;00m\u001b[38;5;124m'\u001b[39m\n\u001b[1;32m    131\u001b[0m \u001b[38;5;66;03m# Get basic properties of video\u001b[39;00m\n\u001b[1;32m    132\u001b[0m meta \u001b[38;5;241m=\u001b[39m Bunch()\n",
      "\u001b[0;31mAssertionError\u001b[0m: Failed to open video file https://ibl.flatironinstitute.org/public/danlab/Subjects/DY_016/2020-09-12/001/raw_video_data/_iblrig_leftCamera.raw.27640f38-ece8-4b52-bf2c-3a87e861d763.mp4"
     ]
    }
   ],
   "source": [
    "import ibllib.io.video as vidio\n",
    "\n",
    "urls = vidio.url_from_eid(eid, one=one)\n",
    "url = urls[ANCHOR_CAMERA]  # URL for the left camera\n",
    "meta = vidio.get_video_meta(url, one=one)\n",
    "print('get meta info')"
   ]
  }
 ],
 "metadata": {
  "kernelspec": {
   "display_name": "Python 3",
   "language": "python",
   "name": "python3"
  },
  "language_info": {
   "codemirror_mode": {
    "name": "ipython",
    "version": 3
   },
   "file_extension": ".py",
   "mimetype": "text/x-python",
   "name": "python",
   "nbconvert_exporter": "python",
   "pygments_lexer": "ipython3",
   "version": "3.10.18"
  }
 },
 "nbformat": 4,
 "nbformat_minor": 5
}
