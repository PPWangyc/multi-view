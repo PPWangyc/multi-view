{
 "cells": [
  {
   "cell_type": "markdown",
   "id": "9ddc6238",
   "metadata": {},
   "source": [
    "Import modules"
   ]
  },
  {
   "cell_type": "code",
   "execution_count": 11,
   "metadata": {},
   "outputs": [],
   "source": [
    "import os\n",
    "import sys\n",
    "import numpy as np\n",
    "import pandas as pd\n",
    "from pathlib import Path\n",
    "\n",
    "from one.api import ONE\n",
    "\n",
    "from utils.ibl_utils import prepare_data"
   ]
  },
  {
   "cell_type": "markdown",
   "id": "135a426d",
   "metadata": {},
   "source": [
    "Set Paths information"
   ]
  },
  {
   "cell_type": "code",
   "execution_count": 14,
   "id": "77087529",
   "metadata": {},
   "outputs": [
    {
     "name": "stdout",
     "output_type": "stream",
     "text": [
      "Number of encoding sessions: 10\n",
      "['d23a44ef-1402-4ed7-97f5-47e9a7a504d9', 'db4df448-e449-4a6f-a0e7-288711e7a75a', '3638d102-e8b6-4230-8742-e548cd87a949', '4b7fbad4-f6de-43b4-9b15-c7c7ef44db4b', '03d9a098-07bf-4765-88b7-85f8d8f620cc', '0841d188-8ef2-4f20-9828-76a94d5343a4', '9b528ad0-4599-4a55-9148-96cc1d93fb24', 'f140a2ec-fd49-4814-994a-fe3476f14e66', '687017d4-c9fc-458f-a7d5-0979fe1a7470', 'd04feec7-d0b7-4f35-af89-0232dd975bf0']\n"
     ]
    }
   ],
   "source": [
    "# ---------------\n",
    "# PREPROCESS DATA\n",
    "# ---------------\n",
    "one = ONE(\n",
    "    base_url=\"https://openalyx.internationalbrainlab.org\",\n",
    "    password=\"international\", \n",
    "    silent=True,\n",
    "    cache_dir='../../data/ibl'\n",
    ")\n",
    "\n",
    "params = {\n",
    "    \"interval_len\": 2, \n",
    "    \"binsize\": 0.02, \n",
    "    \"single_region\": False,\n",
    "    \"align_time\": 'stimOn_times', \n",
    "    \"time_window\": (-.5, 1.5), \n",
    "    \"fr_thresh\": 0.5\n",
    "}\n",
    "\n",
    "beh_names = [\n",
    "    \"choice\", \n",
    "    \"reward\", \n",
    "    \"block\",\n",
    "    \"wheel-speed\", \n",
    "    \"whisker-motion-energy\", \n",
    "]\n",
    "\n",
    "N_WORKERS = 4\n",
    "\n",
    "DYNAMIC_VARS = list(filter(lambda x: x not in [\"choice\", \"reward\", \"block\"], beh_names))\n",
    "\n",
    "ENCODING_TEST_EIDS_PATH = \"../../data/encoding_test_eids.txt\"\n",
    "\n",
    "with open(ENCODING_TEST_EIDS_PATH, \"r\") as f:\n",
    "    eids = f.read().splitlines()\n",
    "\n",
    "print(f\"Number of encoding sessions: {len(eids)}\")\n",
    "print(eids)"
   ]
  },
  {
   "cell_type": "markdown",
   "id": "23bdf0c0",
   "metadata": {},
   "source": [
    "Get encoding sessions"
   ]
  },
  {
   "cell_type": "code",
   "execution_count": 15,
   "id": "c6bf4099",
   "metadata": {},
   "outputs": [
    {
     "name": "stdout",
     "output_type": "stream",
     "text": [
      "Processing session 1/10: d23a44ef-1402-4ed7-97f5-47e9a7a504d9\n"
     ]
    },
    {
     "name": "stdout",
     "output_type": "stream",
     "text": [
      "Merge 2 probes for session EID: d23a44ef-1402-4ed7-97f5-47e9a7a504d9\n"
     ]
    },
    {
     "name": "stderr",
     "output_type": "stream",
     "text": [
      "(S3) ../../data/ibl/danlab/Subjects/DY_016/2020-09-12/001/alf/probe01/pykilosort/#2024-05-06#/spikes.amps.npy: 100%|██████████| 330M/330M [00:01<00:00, 251MB/s]  \n",
      "(S3) ../../data/ibl/danlab/Subjects/DY_016/2020-09-12/001/alf/probe01/pykilosort/#2024-05-06#/spikes.clusters.npy: 100%|██████████| 165M/165M [00:00<00:00, 243MB/s] \n",
      "(S3) ../../data/ibl/danlab/Subjects/DY_016/2020-09-12/001/alf/probe01/pykilosort/#2024-05-06#/spikes.depths.npy: 100%|██████████| 330M/330M [00:01<00:00, 278MB/s] \n",
      "(S3) ../../data/ibl/danlab/Subjects/DY_016/2020-09-12/001/alf/probe01/pykilosort/#2024-05-06#/spikes.times.npy: 100%|██████████| 330M/330M [00:01<00:00, 263MB/s] \n",
      "(S3) ../../data/ibl/danlab/Subjects/DY_016/2020-09-12/001/alf/probe01/pykilosort/#2024-05-06#/clusters.channels.npy: 100%|██████████| 10.4k/10.4k [00:00<00:00, 86.1kB/s]\n",
      "(S3) ../../data/ibl/danlab/Subjects/DY_016/2020-09-12/001/alf/probe01/pykilosort/#2024-05-06#/clusters.depths.npy: 100%|██████████| 5.28k/5.28k [00:00<00:00, 52.2kB/s]\n",
      "(S3) ../../data/ibl/danlab/Subjects/DY_016/2020-09-12/001/alf/probe01/pykilosort/#2024-05-06#/clusters.metrics.pqt: 100%|██████████| 176k/176k [00:00<00:00, 814kB/s]\n",
      "(S3) ../../data/ibl/danlab/Subjects/DY_016/2020-09-12/001/alf/probe01/pykilosort/#2024-05-06#/clusters.uuids.csv: 100%|██████████| 47.6k/47.6k [00:00<00:00, 364kB/s]\n",
      "(S3) ../../data/ibl/danlab/Subjects/DY_016/2020-09-12/001/alf/probe01/pykilosort/#2024-05-06#/channels.brainLocationIds_ccf_2017.npy: 100%|██████████| 3.20k/3.20k [00:00<00:00, 33.7kB/s]\n",
      "(S3) ../../data/ibl/danlab/Subjects/DY_016/2020-09-12/001/alf/probe01/pykilosort/#2024-05-06#/channels.labels.npy: 100%|██████████| 512/512 [00:00<00:00, 5.35kB/s]\n",
      "(S3) ../../data/ibl/danlab/Subjects/DY_016/2020-09-12/001/alf/probe01/pykilosort/#2024-05-06#/channels.localCoordinates.npy: 100%|██████████| 3.20k/3.20k [00:00<00:00, 31.8kB/s]\n",
      "(S3) ../../data/ibl/danlab/Subjects/DY_016/2020-09-12/001/alf/probe01/pykilosort/#2024-05-06#/channels.mlapdv.npy: 100%|██████████| 4.74k/4.74k [00:00<00:00, 42.7kB/s]\n",
      "(S3) ../../data/ibl/danlab/Subjects/DY_016/2020-09-12/001/alf/probe01/pykilosort/#2024-05-06#/channels.rawInd.npy: 100%|██████████| 3.20k/3.20k [00:00<00:00, 35.5kB/s]\n",
      "(S3) ../../data/ibl/danlab/Subjects/DY_016/2020-09-12/001/alf/probe01/electrodeSites.localCoordinates.npy: 100%|██████████| 3.20k/3.20k [00:00<00:00, 31.9kB/s]\n",
      "(S3) ../../data/ibl/danlab/Subjects/DY_016/2020-09-12/001/alf/probe01/electrodeSites.brainLocationIds_ccf_2017.npy: 100%|██████████| 3.20k/3.20k [00:00<00:00, 36.4kB/s]\n",
      "(S3) ../../data/ibl/danlab/Subjects/DY_016/2020-09-12/001/alf/probe01/electrodeSites.mlapdv.npy: 100%|██████████| 4.74k/4.74k [00:00<00:00, 45.9kB/s]\n",
      "(S3) ../../data/ibl/danlab/Subjects/DY_016/2020-09-12/001/alf/probe00/pykilosort/#2024-05-06#/spikes.amps.npy: 100%|██████████| 166M/166M [00:00<00:00, 178MB/s]  \n",
      "(S3) ../../data/ibl/danlab/Subjects/DY_016/2020-09-12/001/alf/probe00/pykilosort/#2024-05-06#/spikes.clusters.npy: 100%|██████████| 83.1M/83.1M [00:00<00:00, 171MB/s]\n",
      "(S3) ../../data/ibl/danlab/Subjects/DY_016/2020-09-12/001/alf/probe00/pykilosort/#2024-05-06#/spikes.depths.npy: 100%|██████████| 166M/166M [00:00<00:00, 257MB/s] \n",
      "(S3) ../../data/ibl/danlab/Subjects/DY_016/2020-09-12/001/alf/probe00/pykilosort/#2024-05-06#/spikes.times.npy: 100%|██████████| 166M/166M [00:00<00:00, 247MB/s] \n",
      "(S3) ../../data/ibl/danlab/Subjects/DY_016/2020-09-12/001/alf/probe00/pykilosort/#2024-05-06#/clusters.channels.npy: 100%|██████████| 5.52k/5.52k [00:00<00:00, 56.6kB/s]\n",
      "(S3) ../../data/ibl/danlab/Subjects/DY_016/2020-09-12/001/alf/probe00/pykilosort/#2024-05-06#/clusters.depths.npy: 100%|██████████| 2.82k/2.82k [00:00<00:00, 28.2kB/s]\n",
      "(S3) ../../data/ibl/danlab/Subjects/DY_016/2020-09-12/001/alf/probe00/pykilosort/#2024-05-06#/clusters.metrics.pqt: 100%|██████████| 96.2k/96.2k [00:00<00:00, 486kB/s]\n",
      "(S3) ../../data/ibl/danlab/Subjects/DY_016/2020-09-12/001/alf/probe00/pykilosort/#2024-05-06#/clusters.uuids.csv: 100%|██████████| 24.9k/24.9k [00:00<00:00, 256kB/s]\n",
      "(S3) ../../data/ibl/danlab/Subjects/DY_016/2020-09-12/001/alf/probe00/pykilosort/#2024-05-06#/channels.brainLocationIds_ccf_2017.npy: 100%|██████████| 3.20k/3.20k [00:00<00:00, 32.3kB/s]\n",
      "(S3) ../../data/ibl/danlab/Subjects/DY_016/2020-09-12/001/alf/probe00/pykilosort/#2024-05-06#/channels.labels.npy: 100%|██████████| 512/512 [00:00<00:00, 5.93kB/s]\n",
      "(S3) ../../data/ibl/danlab/Subjects/DY_016/2020-09-12/001/alf/probe00/pykilosort/#2024-05-06#/channels.localCoordinates.npy: 100%|██████████| 3.20k/3.20k [00:00<00:00, 21.5kB/s]\n",
      "(S3) ../../data/ibl/danlab/Subjects/DY_016/2020-09-12/001/alf/probe00/pykilosort/#2024-05-06#/channels.mlapdv.npy: 100%|██████████| 4.74k/4.74k [00:00<00:00, 35.5kB/s]\n",
      "(S3) ../../data/ibl/danlab/Subjects/DY_016/2020-09-12/001/alf/probe00/pykilosort/#2024-05-06#/channels.rawInd.npy: 100%|██████████| 3.20k/3.20k [00:00<00:00, 25.9kB/s]\n",
      "(S3) ../../data/ibl/danlab/Subjects/DY_016/2020-09-12/001/alf/probe00/electrodeSites.brainLocationIds_ccf_2017.npy: 100%|██████████| 3.20k/3.20k [00:00<00:00, 27.5kB/s]\n",
      "(S3) ../../data/ibl/danlab/Subjects/DY_016/2020-09-12/001/alf/probe00/electrodeSites.mlapdv.npy: 100%|██████████| 4.74k/4.74k [00:00<00:00, 42.2kB/s]\n",
      "(S3) ../../data/ibl/danlab/Subjects/DY_016/2020-09-12/001/alf/probe00/electrodeSites.localCoordinates.npy: 100%|██████████| 3.20k/3.20k [00:00<00:00, 24.9kB/s]\n",
      "(S3) ../../data/ibl/danlab/Subjects/DY_016/2020-09-12/001/alf/_ibl_trials.goCueTrigger_times.npy: 100%|██████████| 3.41k/3.41k [00:00<00:00, 27.0kB/s]\n",
      "(S3) ../../data/ibl/danlab/Subjects/DY_016/2020-09-12/001/alf/_ibl_trials.table.pqt: 100%|██████████| 37.0k/37.0k [00:00<00:00, 203kB/s]\n",
      "(S3) ../../data/ibl/danlab/Subjects/DY_016/2020-09-12/001/alf/_ibl_trials.stimOff_times.npy: 100%|██████████| 3.41k/3.41k [00:00<00:00, 33.0kB/s]\n",
      "  0%|          | 0/4 [00:00<?, ?it/s]/u/ywang74/.conda/envs/mv/lib/python3.10/site-packages/one/util.py:428: ALFWarning: Multiple revisions: \"\", \"2025-05-30\"\n",
      "  warnings.warn(f'Multiple revisions: {rev_list}', alferr.ALFWarning)\n",
      "/u/ywang74/.conda/envs/mv/lib/python3.10/site-packages/one/util.py:428: ALFWarning: Multiple revisions: \"\", \"2025-06-02\"\n",
      "  warnings.warn(f'Multiple revisions: {rev_list}', alferr.ALFWarning)\n",
      "/u/ywang74/.conda/envs/mv/lib/python3.10/site-packages/one/util.py:428: ALFWarning: Multiple revisions: \"\", \"2025-05-31\"\n",
      "  warnings.warn(f'Multiple revisions: {rev_list}', alferr.ALFWarning)\n",
      "(S3) ../../data/ibl/danlab/Subjects/DY_016/2020-09-12/001/alf/_ibl_bodyCamera.times.npy: 100%|██████████| 879k/879k [00:00<00:00, 3.56MB/s]s]\n",
      "(S3) ../../data/ibl/danlab/Subjects/DY_016/2020-09-12/001/alf/_ibl_rightCamera.times.npy: 100%|██████████| 4.38M/4.38M [00:00<00:00, 14.0MB/s], ?B/s]\n",
      "(S3) ../../data/ibl/danlab/Subjects/DY_016/2020-09-12/001/alf/_ibl_leftCamera.times.npy: 100%|██████████| 1.75M/1.75M [00:00<00:00, 5.71MB/s]\n",
      "(S3) ../../data/ibl/danlab/Subjects/DY_016/2020-09-12/001/alf/_ibl_wheel.timestamps.npy: 100%|██████████| 6.04M/6.04M [00:00<00:00, 17.8MB/s]<?, ?B/s]]\n",
      "(S3) ../../data/ibl/danlab/Subjects/DY_016/2020-09-12/001/alf/#2025-06-02#/bodyCamera.ROIMotionEnergy.npy: 100%|██████████| 879k/879k [00:00<00:00, 5.47MB/s]\n",
      "(S3) ../../data/ibl/danlab/Subjects/DY_016/2020-09-12/001/alf/#2025-05-30#/leftCamera.ROIMotionEnergy.npy: 100%|██████████| 1.75M/1.75M [00:00<00:00, 11.4MB/s]\n",
      "(S3) ../../data/ibl/danlab/Subjects/DY_016/2020-09-12/001/alf/#2025-05-31#/rightCamera.ROIMotionEnergy.npy: 100%|██████████| 4.38M/4.38M [00:00<00:00, 17.8MB/s]\n",
      "(S3) ../../data/ibl/danlab/Subjects/DY_016/2020-09-12/001/alf/_ibl_wheel.position.npy: 100%|██████████| 6.04M/6.04M [00:00<00:00, 14.9MB/s]\n",
      "100%|██████████| 4/4 [00:03<00:00,  1.01it/s]"
     ]
    },
    {
     "name": "stdout",
     "output_type": "stream",
     "text": [
      "dict_keys(['spike_times', 'spike_clusters', 'cluster_regions'])\n",
      "dict_keys(['body-motion-energy', 'left-whisker-motion-energy', 'right-whisker-motion-energy', 'wheel-speed'])\n"
     ]
    },
    {
     "name": "stderr",
     "output_type": "stream",
     "text": [
      "\n"
     ]
    }
   ],
   "source": [
    "for eid_idx, eid in enumerate(eids):\n",
    "    print(f\"Processing session {eid_idx+1}/{len(eids)}: {eid}\")\n",
    "    neural_dict, behave_dict, meta_dict, trials_dict, _ = prepare_data(\n",
    "        one, eid, params, n_workers=N_WORKERS\n",
    "    )\n",
    "    print(neural_dict.keys())\n",
    "    print(behave_dict.keys())\n",
    "    break"
   ]
  }
 ],
 "metadata": {
  "kernelspec": {
   "display_name": "Python 3",
   "language": "python",
   "name": "python3"
  },
  "language_info": {
   "codemirror_mode": {
    "name": "ipython",
    "version": 3
   },
   "file_extension": ".py",
   "mimetype": "text/x-python",
   "name": "python",
   "nbconvert_exporter": "python",
   "pygments_lexer": "ipython3",
   "version": "3.10.18"
  }
 },
 "nbformat": 4,
 "nbformat_minor": 5
}
