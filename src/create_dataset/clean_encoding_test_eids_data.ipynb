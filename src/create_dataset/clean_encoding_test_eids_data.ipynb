{
 "cells": [
  {
   "cell_type": "markdown",
   "id": "d5a679cf",
   "metadata": {},
   "source": [
    "import packages"
   ]
  },
  {
   "cell_type": "code",
   "execution_count": 17,
   "id": "0f5f9451",
   "metadata": {},
   "outputs": [],
   "source": [
    "import os\n",
    "import shutil\n",
    "import glob\n",
    "\n",
    "ENCODING_TEST_EIDS_PATH = \"../../data/encoding_test_eids.txt\"\n",
    "\n",
    "with open(ENCODING_TEST_EIDS_PATH, \"r\") as f:\n",
    "    eids = f.readlines()\n",
    "\n",
    "eid_list = []\n",
    "for eid in eids:\n",
    "    eid = eid.strip()\n",
    "    eid_list.append(eid)\n",
    "\n",
    "DATA_DIR = \"../../data/ssl/ibl-mouse-separate\"\n"
   ]
  },
  {
   "cell_type": "markdown",
   "id": "48994749",
   "metadata": {},
   "source": [
    "Remove test folders data from ssl pretraining dataset"
   ]
  },
  {
   "cell_type": "code",
   "execution_count": 13,
   "id": "a0c22855",
   "metadata": {},
   "outputs": [
    {
     "name": "stdout",
     "output_type": "stream",
     "text": [
      "3638d102-e8b6-4230-8742-e548cd87a949\n"
     ]
    },
    {
     "name": "stdout",
     "output_type": "stream",
     "text": [
      "d04feec7-d0b7-4f35-af89-0232dd975bf0\n",
      "0841d188-8ef2-4f20-9828-76a94d5343a4\n",
      "03d9a098-07bf-4765-88b7-85f8d8f620cc\n",
      "d23a44ef-1402-4ed7-97f5-47e9a7a504d9\n",
      "db4df448-e449-4a6f-a0e7-288711e7a75a\n",
      "4b7fbad4-f6de-43b4-9b15-c7c7ef44db4b\n",
      "9b528ad0-4599-4a55-9148-96cc1d93fb24\n",
      "687017d4-c9fc-458f-a7d5-0979fe1a7470\n",
      "f140a2ec-fd49-4814-994a-fe3476f14e66\n"
     ]
    }
   ],
   "source": [
    "# list folders in DATA_DIR\n",
    "\n",
    "\n",
    "folders = os.listdir(DATA_DIR)\n",
    "\n",
    "for folder in folders:\n",
    "    if folder in eid_list:\n",
    "        print(folder)\n",
    "        # remove this folder and all its contents\n",
    "        shutil.rmtree(os.path.join(DATA_DIR, folder))\n",
    "\n",
    "# list files in each folder"
   ]
  },
  {
   "cell_type": "markdown",
   "id": "3935e564",
   "metadata": {},
   "source": [
    "Check how many folders in the DATA_DIR, and return the number of total png files"
   ]
  },
  {
   "cell_type": "code",
   "execution_count": null,
   "id": "8669990d",
   "metadata": {},
   "outputs": [
    {
     "name": "stdout",
     "output_type": "stream",
     "text": [
      "Number of folders: 72\n"
     ]
    },
    {
     "name": "stdout",
     "output_type": "stream",
     "text": [
      "Number of png files: 92152\n"
     ]
    }
   ],
   "source": [
    "# list all folders in DATA_DIR\n",
    "# must only folders not contain json or files\n",
    "folders = os.listdir(DATA_DIR)\n",
    "num_folders = 0\n",
    "for folder in folders:\n",
    "    if os.path.isdir(os.path.join(DATA_DIR, folder)):\n",
    "        num_folders += 1\n",
    "\n",
    "print(f\"Number of folders: {num_folders}\")\n",
    "\n",
    "# recursively count total number of png files in each folder\n",
    "# walk through each folder and count the number of png files\n",
    "# globally get all the png files\n",
    "\n",
    "png_files = glob.glob(os.path.join(DATA_DIR, \"**/*.png\"), recursive=True)\n",
    "print(f\"Number of png files: {len(png_files)}\")\n"
   ]
  }
 ],
 "metadata": {
  "kernelspec": {
   "display_name": "mv",
   "language": "python",
   "name": "python3"
  },
  "language_info": {
   "codemirror_mode": {
    "name": "ipython",
    "version": 3
   },
   "file_extension": ".py",
   "mimetype": "text/x-python",
   "name": "python",
   "nbconvert_exporter": "python",
   "pygments_lexer": "ipython3",
   "version": "3.10.18"
  }
 },
 "nbformat": 4,
 "nbformat_minor": 5
}
