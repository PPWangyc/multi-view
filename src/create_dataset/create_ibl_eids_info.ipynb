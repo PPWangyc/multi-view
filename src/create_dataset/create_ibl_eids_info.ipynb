{
 "cells": [
  {
   "cell_type": "markdown",
   "id": "a0e269d6",
   "metadata": {},
   "source": [
    "Create ibl eids info:\n",
    "EIDS for pretraining, encoding, pose-estimation, and action segmentation."
   ]
  },
  {
   "cell_type": "code",
   "execution_count": 5,
   "id": "1e377f7d",
   "metadata": {},
   "outputs": [
    {
     "name": "stdout",
     "output_type": "stream",
     "text": [
      "Encoding eids: 10\n",
      "Pose eids: 10\n",
      "Action eids: 6\n",
      "Pretrain eids: 67\n",
      "All eids: 91\n"
     ]
    }
   ],
   "source": [
    "import os\n",
    "import shutil\n",
    "import glob\n",
    "import pandas as pd\n",
    "\n",
    "ENCODING_TEST_EIDS_PATH = \"../../data/encoding_test_eids.txt\"\n",
    "POSE_TEST_EIDS_PATH = \"../../data/pose_test_eids.txt\"\n",
    "ACTION_TEST_EIDS_PATH = \"../../data/action_test_eids.txt\"\n",
    "PRETRAIN_EIDS_PATH = \"../../data/pretrain_eids.txt\"\n",
    "\n",
    "DATA_DIR = \"../../data/ssl/ibl-mouse-separate\"\n",
    "\n",
    "folders = os.listdir(DATA_DIR)\n",
    "\n",
    "encoding_eids = []\n",
    "pose_eids = []\n",
    "action_eids = []\n",
    "pretrain_eids = []\n",
    "\n",
    "with open(ENCODING_TEST_EIDS_PATH, 'r') as f:\n",
    "    for line in f:\n",
    "        encoding_eids.append(line.strip())\n",
    "with open(POSE_TEST_EIDS_PATH, 'r') as f:\n",
    "    for line in f:\n",
    "        pose_eids.append(line.strip())\n",
    "with open(ACTION_TEST_EIDS_PATH, 'r') as f:\n",
    "    for line in f:\n",
    "        action_eids.append(line.strip())\n",
    "with open(PRETRAIN_EIDS_PATH, 'r') as f:\n",
    "    for line in f:\n",
    "        pretrain_eids.append(line.strip())\n",
    "\n",
    "print(f\"Encoding eids: {len(encoding_eids)}\")\n",
    "print(f\"Pose eids: {len(pose_eids)}\")\n",
    "print(f\"Action eids: {len(action_eids)}\")\n",
    "print(f\"Pretrain eids: {len(pretrain_eids)}\")\n",
    "\n",
    "all_eids = set(encoding_eids + pose_eids + action_eids + pretrain_eids)\n",
    "print(f\"All eids: {len(all_eids)}\")"
   ]
  },
  {
   "cell_type": "code",
   "execution_count": 7,
   "id": "24aafe02",
   "metadata": {},
   "outputs": [],
   "source": [
    "# generate a dataframe with columns: eid, pretrain, encoding, pose, action, pretrain\n",
    "df = pd.DataFrame(columns=['eid', 'pretrain', 'encoding', 'pose', 'action'])\n",
    "for eid in all_eids:\n",
    "    # no append is deprecated, use pd.concat instead\n",
    "    df = pd.concat([df, pd.DataFrame({'eid': [eid],\n",
    "                                      'pretrain': [int(eid in pretrain_eids)],\n",
    "                                      'encoding': [int(eid in encoding_eids)],\n",
    "                                      'pose': [int(eid in pose_eids)],\n",
    "                                      'action': [int(eid in action_eids)]})], ignore_index=True)\n",
    "df = df.sort_values(by='eid')\n",
    "df.to_csv(\"../../data/ibl_eids_info.csv\", index=False)"
   ]
  }
 ],
 "metadata": {
  "kernelspec": {
   "display_name": "Python 3",
   "language": "python",
   "name": "python3"
  },
  "language_info": {
   "codemirror_mode": {
    "name": "ipython",
    "version": 3
   },
   "file_extension": ".py",
   "mimetype": "text/x-python",
   "name": "python",
   "nbconvert_exporter": "python",
   "pygments_lexer": "ipython3",
   "version": "3.10.18"
  }
 },
 "nbformat": 4,
 "nbformat_minor": 5
}
