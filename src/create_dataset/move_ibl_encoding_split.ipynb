{
 "cells": [
  {
   "cell_type": "code",
   "execution_count": 9,
   "id": "3dfc8a0d",
   "metadata": {},
   "outputs": [
    {
     "name": "stdout",
     "output_type": "stream",
     "text": [
      "seed set to 42\n"
     ]
    }
   ],
   "source": [
    "import os\n",
    "import numpy as np\n",
    "from pathlib import Path\n",
    "import random\n",
    "from tqdm import tqdm\n",
    "\n",
    "from utils.utils import (\n",
    "    set_seed,\n",
    "    get_args,\n",
    ")\n",
    "\n",
    "set_seed(42)\n",
    "\n",
    "DATA_DIR = Path('../../data/encoding/ibl-mouse-separate')\n",
    "TRAIN_RATIO = 0.7\n",
    "VAL_RATIO = 0.1\n",
    "TEST_RATIO = 0.2"
   ]
  },
  {
   "cell_type": "code",
   "execution_count": 11,
   "id": "cc6a1a09",
   "metadata": {},
   "outputs": [
    {
     "name": "stdout",
     "output_type": "stream",
     "text": [
      "Processing session 3638d102-e8b6-4230-8742-e548cd87a949\n",
      "Train/Val/Test: 486/70/139\n"
     ]
    },
    {
     "name": "stderr",
     "output_type": "stream",
     "text": [
      "Processing session 3638d102-e8b6-4230-8742-e548cd87a949:   9%|▉         | 63/695 [00:00<00:04, 155.23it/s]"
     ]
    },
    {
     "name": "stderr",
     "output_type": "stream",
     "text": [
      "Processing session 3638d102-e8b6-4230-8742-e548cd87a949: 100%|██████████| 695/695 [00:04<00:00, 149.17it/s]\n"
     ]
    },
    {
     "name": "stdout",
     "output_type": "stream",
     "text": [
      "Processing session d23a44ef-1402-4ed7-97f5-47e9a7a504d9\n",
      "Train/Val/Test: 287/41/82\n"
     ]
    },
    {
     "name": "stderr",
     "output_type": "stream",
     "text": [
      "Processing session d23a44ef-1402-4ed7-97f5-47e9a7a504d9: 100%|██████████| 410/410 [00:01<00:00, 232.73it/s]\n"
     ]
    },
    {
     "name": "stdout",
     "output_type": "stream",
     "text": [
      "Processing session db4df448-e449-4a6f-a0e7-288711e7a75a\n",
      "Train/Val/Test: 281/40/81\n"
     ]
    },
    {
     "name": "stderr",
     "output_type": "stream",
     "text": [
      "Processing session db4df448-e449-4a6f-a0e7-288711e7a75a: 100%|██████████| 402/402 [00:02<00:00, 179.68it/s]\n"
     ]
    },
    {
     "name": "stdout",
     "output_type": "stream",
     "text": [
      "Processing session 03d9a098-07bf-4765-88b7-85f8d8f620cc\n",
      "Train/Val/Test: 406/58/117\n"
     ]
    },
    {
     "name": "stderr",
     "output_type": "stream",
     "text": [
      "Processing session 03d9a098-07bf-4765-88b7-85f8d8f620cc: 100%|██████████| 581/581 [00:03<00:00, 163.01it/s]\n"
     ]
    },
    {
     "name": "stdout",
     "output_type": "stream",
     "text": [
      "Processing session 4b7fbad4-f6de-43b4-9b15-c7c7ef44db4b\n",
      "Train/Val/Test: 589/84/169\n"
     ]
    },
    {
     "name": "stderr",
     "output_type": "stream",
     "text": [
      "Processing session 4b7fbad4-f6de-43b4-9b15-c7c7ef44db4b: 100%|██████████| 842/842 [00:05<00:00, 146.40it/s]\n"
     ]
    },
    {
     "name": "stdout",
     "output_type": "stream",
     "text": [
      "Processing session 9b528ad0-4599-4a55-9148-96cc1d93fb24\n",
      "Train/Val/Test: 406/58/117\n"
     ]
    },
    {
     "name": "stderr",
     "output_type": "stream",
     "text": [
      "Processing session 9b528ad0-4599-4a55-9148-96cc1d93fb24: 100%|██████████| 581/581 [00:03<00:00, 152.74it/s]\n"
     ]
    },
    {
     "name": "stdout",
     "output_type": "stream",
     "text": [
      "Processing session 687017d4-c9fc-458f-a7d5-0979fe1a7470\n",
      "Train/Val/Test: 305/43/88\n"
     ]
    },
    {
     "name": "stderr",
     "output_type": "stream",
     "text": [
      "Processing session 687017d4-c9fc-458f-a7d5-0979fe1a7470: 100%|██████████| 436/436 [00:02<00:00, 150.38it/s]\n"
     ]
    },
    {
     "name": "stdout",
     "output_type": "stream",
     "text": [
      "Processing session 0841d188-8ef2-4f20-9828-76a94d5343a4\n",
      "Train/Val/Test: 353/51/101\n"
     ]
    },
    {
     "name": "stderr",
     "output_type": "stream",
     "text": [
      "Processing session 0841d188-8ef2-4f20-9828-76a94d5343a4: 100%|██████████| 505/505 [00:03<00:00, 147.18it/s]\n"
     ]
    }
   ],
   "source": [
    "for session_dir in DATA_DIR.iterdir():\n",
    "    if not session_dir.is_dir():\n",
    "        continue\n",
    "    print(f\"Processing session {session_dir.name}\")\n",
    "    # get all .npy files in the session directory\n",
    "    all_files = list(session_dir.glob('*.npy'))\n",
    "    num_trials = len(all_files)\n",
    "    trial_idxs = np.random.choice(np.arange(num_trials), num_trials, replace=False)\n",
    "    train_idxs = trial_idxs[:int(num_trials*0.7)]\n",
    "    val_idxs = trial_idxs[int(num_trials*0.7):int(num_trials*0.8)]\n",
    "    test_idxs = trial_idxs[int(num_trials*0.8):]\n",
    "    print(f\"Train/Val/Test: {len(train_idxs)}/{len(val_idxs)}/{len(test_idxs)}\")\n",
    "    # create train, val, test directories\n",
    "    (session_dir / 'train').mkdir(exist_ok=True)\n",
    "    (session_dir / 'val').mkdir(exist_ok=True)\n",
    "    (session_dir / 'test').mkdir(exist_ok=True)\n",
    "    for file in tqdm(all_files, desc=f\"Processing session {session_dir.name}\"):\n",
    "        trial_idx = int(file.stem)\n",
    "        if trial_idx in train_idxs:\n",
    "            os.rename(file, session_dir / 'train' / file.name)\n",
    "        elif trial_idx in val_idxs:\n",
    "            os.rename(file, session_dir / 'val' / file.name)\n",
    "        elif trial_idx in test_idxs:\n",
    "            os.rename(file, session_dir / 'test' / file.name)\n",
    "        else:\n",
    "            raise ValueError(f\"Trial idx {trial_idx} not in train/val/test idxs\")"
   ]
  }
 ],
 "metadata": {
  "kernelspec": {
   "display_name": "Python 3",
   "language": "python",
   "name": "python3"
  },
  "language_info": {
   "codemirror_mode": {
    "name": "ipython",
    "version": 3
   },
   "file_extension": ".py",
   "mimetype": "text/x-python",
   "name": "python",
   "nbconvert_exporter": "python",
   "pygments_lexer": "ipython3",
   "version": "3.10.18"
  }
 },
 "nbformat": 4,
 "nbformat_minor": 5
}
