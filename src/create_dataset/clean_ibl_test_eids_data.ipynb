{
 "cells": [
  {
   "cell_type": "markdown",
   "id": "d5a679cf",
   "metadata": {},
   "source": [
    "import packages"
   ]
  },
  {
   "cell_type": "code",
   "execution_count": 4,
   "id": "0f5f9451",
   "metadata": {},
   "outputs": [
    {
     "name": "stdout",
     "output_type": "stream",
     "text": [
      "{'dataset': 'ibl-mouse-separate', 'description': 'A self-supervised dataset for multi-view learning', 'available_views': ['rightCamera', 'leftCamera'], 'anchor_view': 'leftCamera', 'video_ids': ['9b528ad0-4599-4a55-9148-96cc1d93fb24', '15b69921-d471-4ded-8814-2adad954bcd8', '0802ced5-33a3-405e-8336-b65ebc5cb07c', 'ff96bfe1-d925-4553-94b5-bf8297adf259', 'ee40aece-cffd-4edb-a4b6-155f158c666a', 'a405053a-eb13-4aa4-850c-5a337e5dc7fd', '6c6b0d06-6039-4525-a74b-58cfaa1d3a60', '2bdf206a-820f-402f-920a-9e86cd5388a4', '8928f98a-b411-497e-aa4b-aa752434686d', '3e6a97d3-3991-49e2-b346-6948cb4580fb', 'f3ce3197-d534-4618-bf81-b687555d1883', '239dd3c9-35f3-4462-95ee-91b822a22e6b', 'd57df551-6dcb-4242-9c72-b806cff5613a', 'e2b845a1-e313-4a08-bc61-a5f662ed295e', '687017d4-c9fc-458f-a7d5-0979fe1a7470', '6899a67d-2e53-4215-a52a-c7021b5da5d4', 'c51f34d8-42f6-4c9c-bb5b-669fd9c42cd9', '746d1902-fa59-4cab-b0aa-013be36060d5', 'e45481fa-be22-4365-972c-e7404ed8ab5a', 'f312aaec-3b6f-44b3-86b4-3a0c119c0438', '03d9a098-07bf-4765-88b7-85f8d8f620cc', 'e535fb62-e245-4a48-b119-88ce62a6fe67', '51e53aff-1d5d-4182-a684-aba783d50ae5', 'd0ea3148-948d-4817-94f8-dcaf2342bbbe', '4b00df29-3769-43be-bb40-128b1cba6d35', 'bb099402-fb31-4cfd-824e-1c97530a0875', '0f77ca5d-73c2-45bd-aa4c-4c5ed275dbde', '5ae68c54-2897-4d3a-8120-426150704385', 'f140a2ec-fd49-4814-994a-fe3476f14e66', '73918ae1-e4fd-4c18-b132-00cb555b1ad2', '30c4e2ab-dffc-499d-aae4-e51d6b3218c2', '1b715600-0cbc-442c-bd00-5b0ac2865de1', '15763234-d21e-491f-a01b-1238eb96d389', '4a45c8ba-db6f-4f11-9403-56e06a33dfa4', 'a7763417-e0d6-4f2a-aa55-e382fd9b5fb8', 'a4a74102-2af5-45dc-9e41-ef7f5aed88be', '6ab9d98c-b1e9-4574-b8fe-b9eec88097e0', 'c7248e09-8c0d-40f2-9eb4-700a8973d8c8', 'dc962048-89bb-4e6a-96a9-b062a2be1426', 'dda5fc59-f09a-4256-9fb5-66c67667a466', '71e55bfe-5a3a-4cba-bdc7-f085140d798e', '88224abb-5746-431f-9c17-17d7ef806e6a', '7cb81727-2097-4b52-b480-c89867b5b34c', '7691eeb3-715b-4571-8fda-6bb57aab8253', 'aad23144-0e52-4eac-80c5-c4ee2decb198', '46794e05-3f6a-4d35-afb3-9165091a5a74', '5dcee0eb-b34d-4652-acc3-d10afc6eae68', '3bcb81b4-d9ca-4fc9-a1cd-353a966239ca', '54238fd6-d2d0-4408-b1a9-d19d24fd29ce', 'a8a8af78-16de-4841-ab07-fde4b5281a03', '1735d2be-b388-411a-896a-60b01eaa1cfe', 'b196a2ad-511b-4e90-ac99-b5a29ad25c22', 'ebce500b-c530-47de-8cb1-963c552703ea', '0841d188-8ef2-4f20-9828-76a94d5343a4', '824cf03d-4012-4ab1-b499-c83a92c5589e', '61e11a11-ab65-48fb-ae08-3cb80662e5d6', 'c7b0e1a3-4d4d-4a76-9339-e73d0ed5425b', 'd04feec7-d0b7-4f35-af89-0232dd975bf0', '3f859b5c-e73a-4044-b49e-34bb81e96715', '7f6b86f9-879a-4ea2-8531-294a221af5d0', 'd9f0c293-df4c-410a-846d-842e47c6b502', 'caa5dddc-9290-4e27-9f5e-575ba3598614', 'b03fbc44-3d8e-4a6c-8a50-5ea3498568e0', 'ca4ecb4c-4b60-4723-9b9e-2c54a6290a53', '5c0c560e-9e1f-45e9-b66e-e4ee7855be84', '4b7fbad4-f6de-43b4-9b15-c7c7ef44db4b', 'db4df448-e449-4a6f-a0e7-288711e7a75a', '3638d102-e8b6-4230-8742-e548cd87a949', 'd23a44ef-1402-4ed7-97f5-47e9a7a504d9', '0cad7ea8-8e6c-4ad1-a5c5-53fbb2df1a63', '754b74d5-7a06-4004-ae0c-72a10b6ed2e6', '72cb5550-43b4-4ef0-add5-e4adfdfb5e02', '41872d7f-75cb-4445-bb1a-132b354c44f0', 'd2832a38-27f6-452d-91d6-af72d794136c', 'b22f694e-4a34-4142-ab9d-2556c3487086', 'ecb5520d-1358-434c-95ec-93687ecd1396', 'dac3a4c1-b666-4de0-87e8-8c514483cacf', 'c7bf2d49-4937-4597-b307-9f39cb1c7b16', '8a3a0197-b40a-449f-be55-c00b23253bbf', 'f115196e-8dfe-4d2a-8af3-8206d93c1729', '493170a6-fd94-4ee4-884f-cc018c17eeb9', '781b35fd-e1f0-4d14-b2bb-95b7263082bb'], 'number_of_videos': 82, 'input_directory': 'data/ibl-mouse-separate/videos', 'output_directory': 'data/ssl/ibl-mouse-separate', 'frames_per_video': 800, 'n_digits': 8, 'extension': 'png', 'timestamp': '2025-09-05_06-35-47', 'author': 'Yanchen Wang', 'seed': 42, 'total_ssl_frames': 131200}\n"
     ]
    }
   ],
   "source": [
    "import os\n",
    "import shutil\n",
    "import glob\n",
    "import json\n",
    "import time\n",
    "\n",
    "ENCODING_TEST_EIDS_PATH = \"../../data/encoding_test_eids.txt\"\n",
    "POSE_TEST_EIDS_PATH = \"../../data/pose_test_eids.txt\"\n",
    "ACTION_TEST_EIDS_PATH = \"../../data/action_test_eids.txt\"\n",
    "PRETRAIN_EIDS_PATH = \"../../data/pretrain_eids.txt\"\n",
    "\n",
    "DATA_DIR = \"../../data/ssl/ibl-mouse-separate\"\n",
    "\n",
    "folders = os.listdir(DATA_DIR)\n",
    "\n",
    "# read info.json file in data_dir\n",
    "json_path = os.path.join(DATA_DIR, 'info.json')\n",
    "with open(json_path, 'r') as f:\n",
    "    info = json.load(f)\n",
    "print(info)"
   ]
  },
  {
   "cell_type": "markdown",
   "id": "48994749",
   "metadata": {},
   "source": [
    "Remove test folders data from ssl pretraining dataset"
   ]
  },
  {
   "cell_type": "code",
   "execution_count": 5,
   "id": "a0c22855",
   "metadata": {},
   "outputs": [
    {
     "name": "stdout",
     "output_type": "stream",
     "text": [
      "start processing ../../data/encoding_test_eids.txt\n",
      "number of eids to remove: 10\n",
      "['d23a44ef-1402-4ed7-97f5-47e9a7a504d9', 'db4df448-e449-4a6f-a0e7-288711e7a75a', '3638d102-e8b6-4230-8742-e548cd87a949', '4b7fbad4-f6de-43b4-9b15-c7c7ef44db4b', '03d9a098-07bf-4765-88b7-85f8d8f620cc', '0841d188-8ef2-4f20-9828-76a94d5343a4', '9b528ad0-4599-4a55-9148-96cc1d93fb24', 'f140a2ec-fd49-4814-994a-fe3476f14e66', '687017d4-c9fc-458f-a7d5-0979fe1a7470', 'd04feec7-d0b7-4f35-af89-0232dd975bf0']\n",
      "start processing ../../data/pose_test_eids.txt\n",
      "number of eids to remove: 10\n",
      "['6e18b50d-8ead-44a8-81c7-e09d2e2df3c0', '7af49c00-63dd-4fed-b2e0-1b3bd945b20b', '26aa51ff-968c-42e4-85c8-8ff47d19254d', '30e5937e-e86a-47e6-93ae-d2ae3877ff8e', '56b57c38-2699-4091-90a8-aba35103155e', '862ade13-53cd-4221-a3fa-dda8643641f2', '73918ae1-e4fd-4c18-b132-00cb555b1ad2', 'a52f5a1b-7f45-4f2c-89a9-fb199d2a0d63', 'a92c4b1d-46bd-457e-a1f4-414265f0e2d4', 'ebe090af-5922-4fcd-8fc6-17b8ba7bad6d']\n",
      "start processing ../../data/action_test_eids.txt\n",
      "number of eids to remove: 6\n",
      "['c7248e09-8c0d-40f2-9eb4-700a8973d8c8', '5ae68c54-2897-4d3a-8120-426150704385', '3f859b5c-e73a-4044-b49e-34bb81e96715', 'b196a2ad-511b-4e90-ac99-b5a29ad25c22', '73918ae1-e4fd-4c18-b132-00cb555b1ad2', 'd23a44ef-1402-4ed7-97f5-47e9a7a504d9']\n"
     ]
    }
   ],
   "source": [
    "# list folders in DATA_DIR\n",
    "\n",
    "for test_eids_path in [ENCODING_TEST_EIDS_PATH, POSE_TEST_EIDS_PATH, ACTION_TEST_EIDS_PATH]:\n",
    "    with open(test_eids_path, \"r\") as f:\n",
    "        eids = f.readlines()\n",
    "    print(f'start processing {test_eids_path}')\n",
    "    eid_list = []\n",
    "    for eid in eids:\n",
    "        eid = eid.strip()\n",
    "        eid_list.append(eid)\n",
    "    print(f'number of eids to remove: {len(eid_list)}')\n",
    "    print(eid_list)\n",
    "\n",
    "    for folder in folders:\n",
    "        if folder in eid_list:\n",
    "            print(f'removing {folder}')\n",
    "            # remove this folder and all its contents\n",
    "            try:\n",
    "                shutil.rmtree(os.path.join(DATA_DIR, folder))\n",
    "            except Exception as e:\n",
    "                print(f'Error removing {folder}: {e}')\n",
    "\n",
    "# list files in each folder"
   ]
  },
  {
   "cell_type": "markdown",
   "id": "3935e564",
   "metadata": {},
   "source": [
    "Check how many folders in the DATA_DIR, and return the number of total png files"
   ]
  },
  {
   "cell_type": "code",
   "execution_count": 7,
   "id": "8669990d",
   "metadata": {},
   "outputs": [
    {
     "name": "stdout",
     "output_type": "stream",
     "text": [
      "Number of folders: 67\n"
     ]
    },
    {
     "name": "stdout",
     "output_type": "stream",
     "text": [
      "Number of png files: 107192\n"
     ]
    }
   ],
   "source": [
    "# list all folders in DATA_DIR\n",
    "# must only folders not contain json or files\n",
    "folders = os.listdir(DATA_DIR)\n",
    "num_folders = 0\n",
    "pretrain_eids = []\n",
    "for folder in folders:\n",
    "    if os.path.isdir(os.path.join(DATA_DIR, folder)):\n",
    "        num_folders += 1\n",
    "        pretrain_eids.append(folder)\n",
    "# save pretrain_eids to a text file\n",
    "with open(PRETRAIN_EIDS_PATH, \"w\") as f:\n",
    "    for eid in pretrain_eids:\n",
    "        f.write(f\"{eid}\\n\")\n",
    "\n",
    "print(f\"Number of folders: {num_folders}\")\n",
    "\n",
    "# recursively count total number of png files in each folder\n",
    "# walk through each folder and count the number of png files\n",
    "# globally get all the png files\n",
    "\n",
    "png_files = glob.glob(os.path.join(DATA_DIR, \"**/*.png\"), recursive=True)\n",
    "print(f\"Number of png files: {len(png_files)}\")\n",
    "\n",
    "info['number_of_videos'] = num_folders\n",
    "info['total_ssl_frames'] = len(png_files)\n",
    "info['timestamp'] = time.strftime(\"%Y-%m-%d %H:%M:%S\", time.localtime())\n",
    "info['video_ids'] = pretrain_eids\n",
    "\n",
    "# save info.json file in data_dir\n",
    "with open(json_path, 'w') as f:\n",
    "    json.dump(info, f, indent=4)"
   ]
  }
 ],
 "metadata": {
  "kernelspec": {
   "display_name": "Python 3",
   "language": "python",
   "name": "python3"
  },
  "language_info": {
   "codemirror_mode": {
    "name": "ipython",
    "version": 3
   },
   "file_extension": ".py",
   "mimetype": "text/x-python",
   "name": "python",
   "nbconvert_exporter": "python",
   "pygments_lexer": "ipython3",
   "version": "3.10.18"
  }
 },
 "nbformat": 4,
 "nbformat_minor": 5
}
