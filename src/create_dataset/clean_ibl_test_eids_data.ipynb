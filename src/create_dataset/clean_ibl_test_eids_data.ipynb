{
 "cells": [
  {
   "cell_type": "markdown",
   "id": "d5a679cf",
   "metadata": {},
   "source": [
    "import packages"
   ]
  },
  {
   "cell_type": "code",
   "execution_count": 1,
   "id": "0f5f9451",
   "metadata": {},
   "outputs": [],
   "source": [
    "import os\n",
    "import shutil\n",
    "import glob\n",
    "\n",
    "ENCODING_TEST_EIDS_PATH = \"../../data/encoding_test_eids.txt\"\n",
    "POSE_TEST_EIDS_PATH = \"../../data/pose_test_eids.txt\"\n",
    "ACTION_TEST_EIDS_PATH = \"../../data/action_test_eids.txt\"\n",
    "PRETRAIN_EIDS_PATH = \"../../data/pretrain_eids.txt\"\n",
    "\n",
    "DATA_DIR = \"../../data/ssl/ibl-mouse-separate\"\n",
    "\n",
    "folders = os.listdir(DATA_DIR)"
   ]
  },
  {
   "cell_type": "markdown",
   "id": "48994749",
   "metadata": {},
   "source": [
    "Remove test folders data from ssl pretraining dataset"
   ]
  },
  {
   "cell_type": "code",
   "execution_count": 2,
   "id": "a0c22855",
   "metadata": {},
   "outputs": [
    {
     "name": "stdout",
     "output_type": "stream",
     "text": [
      "start processing ../../data/encoding_test_eids.txt\n",
      "number of eids to remove: 10\n",
      "['d23a44ef-1402-4ed7-97f5-47e9a7a504d9', 'db4df448-e449-4a6f-a0e7-288711e7a75a', '3638d102-e8b6-4230-8742-e548cd87a949', '4b7fbad4-f6de-43b4-9b15-c7c7ef44db4b', '03d9a098-07bf-4765-88b7-85f8d8f620cc', '0841d188-8ef2-4f20-9828-76a94d5343a4', '9b528ad0-4599-4a55-9148-96cc1d93fb24', 'f140a2ec-fd49-4814-994a-fe3476f14e66', '687017d4-c9fc-458f-a7d5-0979fe1a7470', 'd04feec7-d0b7-4f35-af89-0232dd975bf0']\n",
      "removing d04feec7-d0b7-4f35-af89-0232dd975bf0\n"
     ]
    },
    {
     "name": "stdout",
     "output_type": "stream",
     "text": [
      "removing db4df448-e449-4a6f-a0e7-288711e7a75a\n",
      "removing 9b528ad0-4599-4a55-9148-96cc1d93fb24\n",
      "removing d23a44ef-1402-4ed7-97f5-47e9a7a504d9\n",
      "removing 687017d4-c9fc-458f-a7d5-0979fe1a7470\n",
      "removing 0841d188-8ef2-4f20-9828-76a94d5343a4\n",
      "removing 3638d102-e8b6-4230-8742-e548cd87a949\n",
      "removing 03d9a098-07bf-4765-88b7-85f8d8f620cc\n",
      "removing 4b7fbad4-f6de-43b4-9b15-c7c7ef44db4b\n",
      "removing f140a2ec-fd49-4814-994a-fe3476f14e66\n",
      "start processing ../../data/pose_test_eids.txt\n",
      "number of eids to remove: 10\n",
      "['6e18b50d-8ead-44a8-81c7-e09d2e2df3c0', '7af49c00-63dd-4fed-b2e0-1b3bd945b20b', '26aa51ff-968c-42e4-85c8-8ff47d19254d', '30e5937e-e86a-47e6-93ae-d2ae3877ff8e', '56b57c38-2699-4091-90a8-aba35103155e', '862ade13-53cd-4221-a3fa-dda8643641f2', '73918ae1-e4fd-4c18-b132-00cb555b1ad2', 'a52f5a1b-7f45-4f2c-89a9-fb199d2a0d63', 'a92c4b1d-46bd-457e-a1f4-414265f0e2d4', 'ebe090af-5922-4fcd-8fc6-17b8ba7bad6d']\n",
      "removing 73918ae1-e4fd-4c18-b132-00cb555b1ad2\n",
      "start processing ../../data/action_test_eids.txt\n",
      "number of eids to remove: 6\n",
      "['c7248e09-8c0d-40f2-9eb4-700a8973d8c8', '5ae68c54-2897-4d3a-8120-426150704385', '3f859b5c-e73a-4044-b49e-34bb81e96715', 'b196a2ad-511b-4e90-ac99-b5a29ad25c22', '73918ae1-e4fd-4c18-b132-00cb555b1ad2', 'd23a44ef-1402-4ed7-97f5-47e9a7a504d9']\n",
      "removing c7248e09-8c0d-40f2-9eb4-700a8973d8c8\n",
      "removing 5ae68c54-2897-4d3a-8120-426150704385\n",
      "removing 73918ae1-e4fd-4c18-b132-00cb555b1ad2\n",
      "Error removing 73918ae1-e4fd-4c18-b132-00cb555b1ad2: [Errno 2] No such file or directory: '../../data/ssl/ibl-mouse-separate/73918ae1-e4fd-4c18-b132-00cb555b1ad2'\n",
      "removing d23a44ef-1402-4ed7-97f5-47e9a7a504d9\n",
      "Error removing d23a44ef-1402-4ed7-97f5-47e9a7a504d9: [Errno 2] No such file or directory: '../../data/ssl/ibl-mouse-separate/d23a44ef-1402-4ed7-97f5-47e9a7a504d9'\n",
      "removing 3f859b5c-e73a-4044-b49e-34bb81e96715\n",
      "removing b196a2ad-511b-4e90-ac99-b5a29ad25c22\n"
     ]
    }
   ],
   "source": [
    "# list folders in DATA_DIR\n",
    "\n",
    "for test_eids_path in [ENCODING_TEST_EIDS_PATH, POSE_TEST_EIDS_PATH, ACTION_TEST_EIDS_PATH]:\n",
    "    with open(test_eids_path, \"r\") as f:\n",
    "        eids = f.readlines()\n",
    "    print(f'start processing {test_eids_path}')\n",
    "    eid_list = []\n",
    "    for eid in eids:\n",
    "        eid = eid.strip()\n",
    "        eid_list.append(eid)\n",
    "    print(f'number of eids to remove: {len(eid_list)}')\n",
    "    print(eid_list)\n",
    "\n",
    "    for folder in folders:\n",
    "        if folder in eid_list:\n",
    "            print(f'removing {folder}')\n",
    "            # remove this folder and all its contents\n",
    "            try:\n",
    "                shutil.rmtree(os.path.join(DATA_DIR, folder))\n",
    "            except Exception as e:\n",
    "                print(f'Error removing {folder}: {e}')\n",
    "\n",
    "# list files in each folder"
   ]
  },
  {
   "cell_type": "markdown",
   "id": "3935e564",
   "metadata": {},
   "source": [
    "Check how many folders in the DATA_DIR, and return the number of total png files"
   ]
  },
  {
   "cell_type": "code",
   "execution_count": 3,
   "id": "8669990d",
   "metadata": {},
   "outputs": [
    {
     "name": "stdout",
     "output_type": "stream",
     "text": [
      "Number of folders: 67\n"
     ]
    },
    {
     "name": "stdout",
     "output_type": "stream",
     "text": [
      "Number of png files: 107192\n"
     ]
    }
   ],
   "source": [
    "# list all folders in DATA_DIR\n",
    "# must only folders not contain json or files\n",
    "folders = os.listdir(DATA_DIR)\n",
    "num_folders = 0\n",
    "pretrain_eids = []\n",
    "for folder in folders:\n",
    "    if os.path.isdir(os.path.join(DATA_DIR, folder)):\n",
    "        num_folders += 1\n",
    "        pretrain_eids.append(folder)\n",
    "# save pretrain_eids to a text file\n",
    "with open(PRETRAIN_EIDS_PATH, \"w\") as f:\n",
    "    for eid in pretrain_eids:\n",
    "        f.write(f\"{eid}\\n\")\n",
    "\n",
    "print(f\"Number of folders: {num_folders}\")\n",
    "\n",
    "# recursively count total number of png files in each folder\n",
    "# walk through each folder and count the number of png files\n",
    "# globally get all the png files\n",
    "\n",
    "png_files = glob.glob(os.path.join(DATA_DIR, \"**/*.png\"), recursive=True)\n",
    "print(f\"Number of png files: {len(png_files)}\")\n"
   ]
  }
 ],
 "metadata": {
  "kernelspec": {
   "display_name": "Python 3",
   "language": "python",
   "name": "python3"
  },
  "language_info": {
   "codemirror_mode": {
    "name": "ipython",
    "version": 3
   },
   "file_extension": ".py",
   "mimetype": "text/x-python",
   "name": "python",
   "nbconvert_exporter": "python",
   "pygments_lexer": "ipython3",
   "version": "3.10.18"
  }
 },
 "nbformat": 4,
 "nbformat_minor": 5
}
