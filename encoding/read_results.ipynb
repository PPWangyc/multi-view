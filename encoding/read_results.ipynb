{
 "cells": [
  {
   "cell_type": "markdown",
   "id": "8ebf14a4",
   "metadata": {},
   "source": [
    "Load IBL encoding results and plots / visualization"
   ]
  },
  {
   "cell_type": "code",
   "execution_count": 26,
   "id": "f35eec7e",
   "metadata": {},
   "outputs": [
    {
     "name": "stdout",
     "output_type": "stream",
     "text": [
      "Found 10 results files.\n"
     ]
    }
   ],
   "source": [
    "import numpy as np\n",
    "import os\n",
    "import matplotlib.pyplot as plt\n",
    "import glob\n",
    "\n",
    "RESULTS_DIR = \"../logs/encoding\"\n",
    "\n",
    "ENCODING_TEST_EIDS_PATH = \"../data/encoding_test_eids.txt\"\n",
    "\n",
    "with open(ENCODING_TEST_EIDS_PATH, \"r\") as f:\n",
    "    EIDS = f.read().splitlines()\n",
    "\n",
    "# get all results_dict.npy files in RESULTS_DIR\n",
    "RESULTS_FILES = glob.glob(os.path.join(RESULTS_DIR, \"**\", \"results_dict.npy\"), recursive=True)\n",
    "print(f\"Found {len(RESULTS_FILES)} results files.\")\n",
    "\n",
    "def load_results(file_path):\n",
    "    return np.load(file_path, allow_pickle=True).item()"
   ]
  },
  {
   "cell_type": "code",
   "execution_count": 27,
   "id": "675ec3a2",
   "metadata": {},
   "outputs": [
    {
     "name": "stdout",
     "output_type": "stream",
     "text": [
      "Found 10 results files for model model-ijepa/.\n",
      "Processing eid: d23a44ef-1402-4ed7-97f5-47e9a7a504d9\n",
      "Processing eid: db4df448-e449-4a6f-a0e7-288711e7a75a\n",
      "Processing eid: 3638d102-e8b6-4230-8742-e548cd87a949\n",
      "Processing eid: 4b7fbad4-f6de-43b4-9b15-c7c7ef44db4b\n",
      "Processing eid: 03d9a098-07bf-4765-88b7-85f8d8f620cc\n",
      "Processing eid: 0841d188-8ef2-4f20-9828-76a94d5343a4\n",
      "Processing eid: 9b528ad0-4599-4a55-9148-96cc1d93fb24\n",
      "Processing eid: f140a2ec-fd49-4814-994a-fe3476f14e66\n",
      "Processing eid: 687017d4-c9fc-458f-a7d5-0979fe1a7470\n",
      "Processing eid: d04feec7-d0b7-4f35-af89-0232dd975bf0\n",
      "TCN BPS: 0.2246 ± 0.1011\n",
      "RRR BPS: 0.0983 ± 0.0618\n"
     ]
    }
   ],
   "source": [
    "model='model-ijepa/'\n",
    "avail_views = 'views-left/'\n",
    "dataset = 'ds-ibl-mouse-separate'\n",
    "if 'sv' in model:\n",
    "    resume_model = 'sv'\n",
    "elif 'mv' in model:\n",
    "    resume_model = 'mv'\n",
    "else:\n",
    "    resume_model = 'none'\n",
    "    dataset = 'None'\n",
    "# filter results files for the given model\n",
    "results_files = [f for f in RESULTS_FILES if model in f]\n",
    "print(f\"Found {len(results_files)} results files for model {model}.\")\n",
    "rrr_bps_list = []\n",
    "tcn_bps_list = []\n",
    "for eid in EIDS:\n",
    "    try:\n",
    "        print(f\"Processing eid: {eid}\")\n",
    "        result_file = [f for f in results_files if eid in f]\n",
    "        result_file = [f for f in result_file if avail_views in f]\n",
    "        result_file = [f for f in result_file if dataset in f]\n",
    "        assert len(result_file) == 1, f\"Expected one result file for eid {eid}, found {len(result_file)}\"\n",
    "        result_file = result_file[0]\n",
    "        results = load_results(result_file)\n",
    "        rrr_bps = results['rrr']['bps']\n",
    "        tcn_bps = results['tcn']['bps']\n",
    "        rrr_bps_list.append(rrr_bps)\n",
    "        tcn_bps_list.append(tcn_bps)\n",
    "    except AssertionError as e:\n",
    "        print(e)\n",
    "        continue\n",
    "\n",
    "rrr_bps_list, tcn_bps_list = np.array(rrr_bps_list), np.array(tcn_bps_list)\n",
    "print(f\"TCN BPS: {tcn_bps_list.mean():.4f} ± {tcn_bps_list.std():.4f}\")\n",
    "print(f\"RRR BPS: {rrr_bps_list.mean():.4f} ± {rrr_bps_list.std():.4f}\")"
   ]
  },
  {
   "cell_type": "code",
   "execution_count": 28,
   "id": "2d84c04a",
   "metadata": {},
   "outputs": [
    {
     "name": "stdout",
     "output_type": "stream",
     "text": [
      "TCN BPS per session:\n",
      "0.4860\n",
      "0.2164\n",
      "0.2572\n",
      "0.2423\n",
      "0.2364\n",
      "0.1573\n",
      "0.1159\n",
      "0.2572\n",
      "0.1331\n",
      "0.1440\n",
      "----------------------------------------\n",
      "RRR BPS per session:\n",
      "0.2119\n",
      "0.1012\n",
      "0.1438\n",
      "0.0830\n",
      "0.0571\n",
      "0.0722\n",
      "0.0490\n",
      "0.1969\n",
      "0.0248\n",
      "0.0428\n"
     ]
    }
   ],
   "source": [
    "print(\"TCN BPS per session:\")\n",
    "for tcn_bps in tcn_bps_list:\n",
    "    print(f\"{tcn_bps:.4f}\")\n",
    "print(\"-\"*40)\n",
    "print(\"RRR BPS per session:\")\n",
    "for rrr_bps in rrr_bps_list:\n",
    "    print(f\"{rrr_bps:.4f}\")"
   ]
  }
 ],
 "metadata": {
  "kernelspec": {
   "display_name": "Python 3",
   "language": "python",
   "name": "python3"
  },
  "language_info": {
   "codemirror_mode": {
    "name": "ipython",
    "version": 3
   },
   "file_extension": ".py",
   "mimetype": "text/x-python",
   "name": "python",
   "nbconvert_exporter": "python",
   "pygments_lexer": "ipython3",
   "version": "3.10.18"
  }
 },
 "nbformat": 4,
 "nbformat_minor": 5
}
